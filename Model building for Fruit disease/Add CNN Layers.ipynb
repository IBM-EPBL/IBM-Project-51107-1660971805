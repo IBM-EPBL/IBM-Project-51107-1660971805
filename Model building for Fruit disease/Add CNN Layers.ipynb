{
  "nbformat": 4,
  "nbformat_minor": 0,
  "metadata": {
    "colab": {
      "provenance": []
    },
    "kernelspec": {
      "name": "python3",
      "display_name": "Python 3"
    },
    "language_info": {
      "name": "python"
    }
  },
  "cells": [
    {
      "cell_type": "code",
      "execution_count": null,
      "metadata": {
        "id": "_UfNt18OMvlw"
      },
      "outputs": [],
      "source": [
        "model=Sequential()\n",
        "model.add(Convolution2D(32,(3,3),input_shape=(128,128,3),activation='relu'))\n",
        "model.add(MaxPooling2D(pool_size=(2,2)))\n",
        "model.add(Flatten())\n",
        "model.save('fruit.h5')\n",
        "model.summary()"
      ]
    },
    {
      "cell_type": "markdown",
      "source": [
        "Model: \"sequential_3\"\n",
        "_________________________________________________________________\n",
        " Layer (type)                Output Shape              Param #   \n",
        "=================================================================\n",
        " conv2d_3 (Conv2D)           (None, 126, 126, 32)      896       \n",
        "                                                                 \n",
        " max_pooling2d_3 (MaxPooling  (None, 63, 63, 32)       0         \n",
        " 2D)                                                             \n",
        "                                                                 \n",
        " flatten_3 (Flatten)         (None, 127008)            0         \n",
        "                                                                 \n",
        "=================================================================\n",
        "Total params: 896\n",
        "Trainable params: 896\n",
        "Non-trainable params: 0\n",
        "_________________________________________________________________\n"
      ],
      "metadata": {
        "id": "TKPCgBfUNbKL"
      }
    }
  ]
}