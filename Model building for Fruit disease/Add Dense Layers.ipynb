{
  "nbformat": 4,
  "nbformat_minor": 0,
  "metadata": {
    "colab": {
      "provenance": []
    },
    "kernelspec": {
      "name": "python3",
      "display_name": "Python 3"
    },
    "language_info": {
      "name": "python"
    }
  },
  "cells": [
    {
      "cell_type": "code",
      "execution_count": null,
      "metadata": {
        "id": "lFjcupZXNs7f"
      },
      "outputs": [],
      "source": [
        "model.add(Dense(300,kernel_initializer='uniform',activation='relu'))\n",
        "model.add(Dense(150,kernel_initializer='random_uniform',activation='relu'))\n",
        "model.add(Dense(9,kernel_initializer='random_uniform',activation='softmax'))\n",
        "model.compile(loss='categorical_crossentropy',optimizer='adam',metrics=['accuracy'])\n",
        "len(x_train)"
      ]
    },
    {
      "cell_type": "markdown",
      "source": [
        "225"
      ],
      "metadata": {
        "id": "0CmHmQFeOkGE"
      }
    },
    {
      "cell_type": "code",
      "source": [
        "len(x_test)"
      ],
      "metadata": {
        "id": "lD0zOW4jOmAa"
      },
      "execution_count": null,
      "outputs": []
    },
    {
      "cell_type": "markdown",
      "source": [
        "71"
      ],
      "metadata": {
        "id": "kIHl5UwMOoLm"
      }
    },
    {
      "cell_type": "code",
      "source": [
        "model.fit(x_train,steps_per_epoch=len(x_train),validation_data=x_test,validation_steps=len(x_test),epochs=10)"
      ],
      "metadata": {
        "id": "lShOGqYKOqg_"
      },
      "execution_count": null,
      "outputs": []
    },
    {
      "cell_type": "markdown",
      "source": [
        "Epoch 1/10\n",
        "225/225 [==============================] - 196s 865ms/step - loss: 1.6705 - accuracy: 0.3338 - val_loss: 1.6547 - val_accuracy: 0.2924\n",
        "Epoch 2/10\n",
        "225/225 [==============================] - 188s 836ms/step - loss: 1.6435 - accuracy: 0.3351 - val_loss: 1.6454 - val_accuracy: 0.2924\n",
        "Epoch 3/10\n",
        "225/225 [==============================] - 187s 830ms/step - loss: 1.6446 - accuracy: 0.3351 - val_loss: 1.6471 - val_accuracy: 0.2924\n",
        "Epoch 4/10\n",
        "225/225 [==============================] - 188s 833ms/step - loss: 1.6436 - accuracy: 0.3351 - val_loss: 1.6469 - val_accuracy: 0.2924\n",
        "Epoch 5/10\n",
        "225/225 [==============================] - 184s 820ms/step - loss: 1.6429 - accuracy: 0.3351 - val_loss: 1.6585 - val_accuracy: 0.2924\n",
        "Epoch 6/10\n",
        "225/225 [==============================] - 185s 822ms/step - loss: 1.6438 - accuracy: 0.3351 - val_loss: 1.6508 - val_accuracy: 0.2924\n",
        "Epoch 7/10\n",
        "225/225 [==============================] - 181s 806ms/step - loss: 1.6439 - accuracy: 0.3351 - val_loss: 1.6467 - val_accuracy: 0.2924\n",
        "Epoch 8/10\n",
        "225/225 [==============================] - 185s 822ms/step - loss: 1.6427 - accuracy: 0.3351 - val_loss: 1.6482 - val_accuracy: 0.2924\n",
        "Epoch 9/10\n",
        "225/225 [==============================] - 184s 816ms/step - loss: 1.6427 - accuracy: 0.3351 - val_loss: 1.6486 - val_accuracy: 0.2924\n",
        "Epoch 10/10\n",
        "225/225 [==============================] - 178s 791ms/step - loss: 1.6427 - accuracy: 0.3351 - val_loss: 1.6490 - val_accuracy: 0.2924"
      ],
      "metadata": {
        "id": "VjutPwQYOsz9"
      }
    }
  ]
}